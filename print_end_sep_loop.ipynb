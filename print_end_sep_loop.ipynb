{
  "nbformat": 4,
  "nbformat_minor": 0,
  "metadata": {
    "colab": {
      "name": "print-end-sep-loop.ipynb",
      "provenance": []
    },
    "kernelspec": {
      "name": "python3",
      "display_name": "Python 3"
    }
  },
  "cells": [
    {
      "cell_type": "markdown",
      "metadata": {
        "id": "9GaC-C0Q4TQW"
      },
      "source": [
        "# What is an Interpreter\r\n",
        "> Interpreter is a software that reads and executes codes.\r\n",
        "> It is different from compilers cuz compilers convert codes into machine language or binary code."
      ]
    },
    {
      "cell_type": "markdown",
      "metadata": {
        "id": "simPjg0fq0xL"
      },
      "source": [
        "#***BASIC STATEMENTS***\r\n",
        "**PRINT STATEMENTS**"
      ]
    },
    {
      "cell_type": "code",
      "metadata": {
        "id": "w-Li3v6liQz7",
        "colab": {
          "base_uri": "https://localhost:8080/"
        },
        "outputId": "16d9c62e-1d7a-42b7-eda0-125079651bf5"
      },
      "source": [
        "#sep command\r\n",
        "print('N','i','t','i','n', sep=\"\")\r\n",
        "print('N','i','t','i','n', sep=\" \")"
      ],
      "execution_count": 2,
      "outputs": [
        {
          "output_type": "stream",
          "text": [
            "Nitin\n",
            "N i t i n\n"
          ],
          "name": "stdout"
        }
      ]
    },
    {
      "cell_type": "code",
      "metadata": {
        "colab": {
          "base_uri": "https://localhost:8080/"
        },
        "id": "NwwYWWLIxOi9",
        "outputId": "4f5e5dbb-53d1-4834-dde3-3c3cd18b53c4"
      },
      "source": [
        "print('N','i','t','i','n', sep=\"-\")\r\n",
        "print('N','i','t','i','n', sep=\"@\")\r\n",
        "print('N','i','t','i','n', sep=\"#\")"
      ],
      "execution_count": 3,
      "outputs": [
        {
          "output_type": "stream",
          "text": [
            "N-i-t-i-n\n",
            "N@i@t@i@n\n",
            "N#i#t#i#n\n"
          ],
          "name": "stdout"
        }
      ]
    },
    {
      "cell_type": "code",
      "metadata": {
        "colab": {
          "base_uri": "https://localhost:8080/"
        },
        "id": "UcpNgb3pxpoz",
        "outputId": "610d5543-73ab-430f-8ab0-238e82963f04"
      },
      "source": [
        "date = input('Enter dd: ')\r\n",
        "mon = input('Enter mm: ')\r\n",
        "year = input('Enter yyyy: ')\r\n",
        "print('Your exam is scheduled at: ', end = '')    #end statement in print\r\n",
        "print(date, mon, year, sep = '-')"
      ],
      "execution_count": 7,
      "outputs": [
        {
          "output_type": "stream",
          "text": [
            "Enter dd: 25\n",
            "Enter mm: 10\n",
            "Enter yyyy: 1999\n",
            "Your exam is scheduled at: 25-10-1999\n"
          ],
          "name": "stdout"
        }
      ]
    },
    {
      "cell_type": "code",
      "metadata": {
        "colab": {
          "base_uri": "https://localhost:8080/"
        },
        "id": "IpeM9TmFyKf4",
        "outputId": "6f193bf2-675d-4b97-a0f0-138a5217a77d"
      },
      "source": [
        "a = '12'\r\n",
        "b = '15'\r\n",
        "c = '13'\r\n",
        "print('the value is: ', end = '@')\r\n",
        "print(a,b,c, sep =' @')"
      ],
      "execution_count": 11,
      "outputs": [
        {
          "output_type": "stream",
          "text": [
            "the value is: @12 @15 @13\n"
          ],
          "name": "stdout"
        }
      ]
    },
    {
      "cell_type": "code",
      "metadata": {
        "colab": {
          "base_uri": "https://localhost:8080/"
        },
        "id": "htmgi1SvzDyr",
        "outputId": "402cdc16-5903-4358-e79d-94bd8199fe87"
      },
      "source": [
        "print('the value is: ', a,b,c, sep = ' @', end = ' ')"
      ],
      "execution_count": 18,
      "outputs": [
        {
          "output_type": "stream",
          "text": [
            "the value is:  @12 @15 @13 "
          ],
          "name": "stdout"
        }
      ]
    },
    {
      "cell_type": "markdown",
      "metadata": {
        "id": "P97hF2qo4Ctu"
      },
      "source": [
        "******"
      ]
    },
    {
      "cell_type": "markdown",
      "metadata": {
        "id": "tvJbtske4u6P"
      },
      "source": [
        "***Loop***"
      ]
    },
    {
      "cell_type": "code",
      "metadata": {
        "colab": {
          "base_uri": "https://localhost:8080/"
        },
        "id": "i6Cp4sHoze91",
        "outputId": "6d9c3c99-d651-4e0c-c193-73f07d03b488"
      },
      "source": [
        "#for loop in python vs while loop in python\r\n",
        "'''\r\n",
        "Loop is about jumping in an order at regular intervals.\r\n",
        "1-2-3-4-5-6-7\r\n",
        "1-3-5-7-9\r\n",
        "1-5-9-13-17\r\n",
        "1-6-11-16-21\r\n",
        "'''\r\n",
        "for i in range(4):\r\n",
        "  print(i)\r\n",
        "i = 0\r\n",
        "while (i<4):\r\n",
        "  print(i)\r\n",
        "  i +=1"
      ],
      "execution_count": 21,
      "outputs": [
        {
          "output_type": "stream",
          "text": [
            "0\n",
            "1\n",
            "2\n",
            "3\n",
            "0\n",
            "1\n",
            "2\n",
            "3\n"
          ],
          "name": "stdout"
        }
      ]
    },
    {
      "cell_type": "code",
      "metadata": {
        "colab": {
          "base_uri": "https://localhost:8080/"
        },
        "id": "AzrJ_7mc5kq3",
        "outputId": "ed3f7c77-94ff-4275-f09c-b4e349993879"
      },
      "source": [
        "a = 'apple'\r\n",
        "print('The index vs element in the word apple - \\n')\r\n",
        "for i in range(len(a)):\r\n",
        "  print(i,end=' ')\r\n",
        "  print(a[i])"
      ],
      "execution_count": 27,
      "outputs": [
        {
          "output_type": "stream",
          "text": [
            "The index vs element in the word apple - \n",
            "\n",
            "0 a\n",
            "1 p\n",
            "2 p\n",
            "3 l\n",
            "4 e\n"
          ],
          "name": "stdout"
        }
      ]
    },
    {
      "cell_type": "code",
      "metadata": {
        "colab": {
          "base_uri": "https://localhost:8080/"
        },
        "id": "vppsWDR37btL",
        "outputId": "f2f832df-c3a5-4675-f6ce-700eb7c70003"
      },
      "source": [
        "# a do-while loop prototype in Python\r\n",
        "# a do-while loop is when the loop statement is executed atleast once.\r\n",
        "i = 1  \r\n",
        "  \r\n",
        "while True:  \r\n",
        "    print(i)  \r\n",
        "    i = i + 1  \r\n",
        "    if(i > 0):  \r\n",
        "        break \r\n"
      ],
      "execution_count": 30,
      "outputs": [
        {
          "output_type": "stream",
          "text": [
            "1\n"
          ],
          "name": "stdout"
        }
      ]
    }
  ]
}